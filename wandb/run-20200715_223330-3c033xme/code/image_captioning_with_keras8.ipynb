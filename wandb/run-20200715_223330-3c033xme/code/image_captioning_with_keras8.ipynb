{
 "cells": [
  {
   "cell_type": "code",
   "execution_count": 2,
   "metadata": {},
   "outputs": [],
   "source": [
    "#IMPORTS\n",
    "import string\n",
    "from collections import Counter\n",
    "import datetime as dt\n",
    "from numpy import array\n",
    "import numpy as np\n",
    "import pickle\n",
    "from pickle import load, dump\n",
    "# from keras.applications.inception_v3 import InceptionV3\n",
    "# from keras.applications import ResNet152V2\n",
    "from keras.applications import InceptionResNetV2\n",
    "from keras.models import Model\n",
    "from keras.preprocessing import image\n",
    "# from keras.applications.inception_v3 import preprocess_input\n",
    "# from keras.applications.resnet_v2 import preprocess_input\n",
    "from keras.applications.inception_resnet_v2 import preprocess_input\n",
    "from keras import Input\n",
    "from keras.layers import Dropout, Dense, Embedding, LSTM, GaussianDropout, BatchNormalization, AlphaDropout\n",
    "from keras.layers.merge import add\n",
    "from keras.preprocessing.sequence import pad_sequences\n",
    "from keras.utils import to_categorical\n",
    "import keras.backend as K\n",
    "import matplotlib.pyplot as plt\n",
    "%matplotlib inline"
   ]
  },
  {
   "cell_type": "code",
   "execution_count": null,
   "metadata": {},
   "outputs": [],
   "source": []
  }
 ],
 "metadata": {
  "kernelspec": {
   "display_name": "Python 3",
   "language": "python",
   "name": "python3"
  },
  "language_info": {
   "codemirror_mode": {
    "name": "ipython",
    "version": 3
   },
   "file_extension": ".py",
   "mimetype": "text/x-python",
   "name": "python",
   "nbconvert_exporter": "python",
   "pygments_lexer": "ipython3",
   "version": "3.7.4"
  }
 },
 "nbformat": 4,
 "nbformat_minor": 4
}
